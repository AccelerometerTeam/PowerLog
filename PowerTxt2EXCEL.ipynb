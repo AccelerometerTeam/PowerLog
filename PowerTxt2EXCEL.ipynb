{
 "cells": [
  {
   "cell_type": "code",
   "execution_count": 1,
   "metadata": {
    "ExecuteTime": {
     "end_time": "2020-11-17T13:51:39.362618Z",
     "start_time": "2020-11-17T13:51:38.790137Z"
    }
   },
   "outputs": [],
   "source": [
    "import pandas as pd\n",
    "import numpy as np\n",
    "import matplotlib.pyplot as plt\n",
    "import datetime"
   ]
  },
  {
   "cell_type": "code",
   "execution_count": 15,
   "metadata": {
    "ExecuteTime": {
     "end_time": "2020-11-17T14:21:49.563365Z",
     "start_time": "2020-11-17T14:21:49.549405Z"
    },
    "code_folding": [
     0
    ]
   },
   "outputs": [],
   "source": [
    "def getMonData(channel, file):\n",
    "    data=[]\n",
    "    with open(file) as file:\n",
    "        for line in file:\n",
    "            data.append(line)\n",
    "    timeline= data[46]\n",
    "    starttime = timeline[timeline.index(': ')+2:timeline.index(' at')]+' '+timeline[timeline.index('at ')+3:timeline.index('at ')+11]\n",
    "    starttime=datetime.datetime.strptime(starttime,'%d/%m/%Y %H:%M:%S')\n",
    "    starttime+datetime.timedelta(0,3)\n",
    "    colnames = [data[47].split('\\t')[i].strip() for i in range(3)]\n",
    "    dataRaw=[[i.strip() for i in j.split('\\t')] for j in data[48::]]\n",
    "    if channel == 'A':\n",
    "        indA=[ind for ind, item in enumerate(dataRaw) if item[2].strip()==\"\"]\n",
    "    else:\n",
    "        indA=[ind for ind, item in enumerate(dataRaw) if item[1].strip()==\"\"]\n",
    "    dataA_time =  [starttime+datetime.timedelta(0,i) for i in np.array(dataRaw)[indA].T[0].astype(float)]\n",
    "    if channel == 'A':\n",
    "        dataA_Power =  np.array(dataRaw)[indA].T[1].astype(float)\n",
    "    else:\n",
    "        dataA_Power =  np.array(dataRaw)[indA].T[2].astype(float)\n",
    "    df = pd.DataFrame({channel+\" Time\":dataA_time, channel+\" Power\" : dataA_Power})\n",
    "    df[channel+' Rel.Time'] = df[channel+' Time']-df[channel+' Time'][0]\n",
    "    df[channel+' Rel.Time [h]']=df[channel+' Rel.Time']/ np.timedelta64(1, 'h')\n",
    "    df[channel+' Rel.Time [s]']=df[channel+' Rel.Time']/ np.timedelta64(1, 's')\n",
    "    #df.to_excel(file[:-4]+\".xlsx\")\n",
    "    return df\n",
    "def powerTxt2EXCEL(file):\n",
    "    getMonData('A',file).join(getMonData('B',file)).to_excel(file[:-4]+\".xlsx\")\n",
    "    print('Done!')\n",
    "    return getMonData('A',file).join(getMonData('B',file))"
   ]
  },
  {
   "cell_type": "code",
   "execution_count": 16,
   "metadata": {
    "ExecuteTime": {
     "end_time": "2020-11-17T14:22:01.924277Z",
     "start_time": "2020-11-17T14:21:50.332836Z"
    }
   },
   "outputs": [
    {
     "name": "stdout",
     "output_type": "stream",
     "text": [
      "Done!\n",
      "Done!\n",
      "Done!\n",
      "Done!\n"
     ]
    }
   ],
   "source": [
    "data5=powerTxt2EXCEL('Multi_05.txt')\n",
    "data6=powerTxt2EXCEL('Multi_06.txt')\n",
    "data7=powerTxt2EXCEL('Multi_07.txt')\n",
    "data8=powerTxt2EXCEL('Multi_08.txt')"
   ]
  },
  {
   "cell_type": "code",
   "execution_count": 18,
   "metadata": {
    "ExecuteTime": {
     "end_time": "2020-11-17T14:23:01.362629Z",
     "start_time": "2020-11-17T14:23:01.333685Z"
    }
   },
   "outputs": [],
   "source": [
    "finaldata =data5.append(data6).append(data7).append(data8)\n",
    "finaldata.reset_index(drop=True, inplace=True)\n",
    "for i in ['A', 'B']:\n",
    "    finaldata[i+' Rel.Time'] = finaldata[i+' Time']-finaldata[i+' Time'][0]\n",
    "    finaldata[i+' Rel.Time [h]']=finaldata[i+' Rel.Time']/ np.timedelta64(1, 'h')\n",
    "    finaldata[i+' Rel.Time [s]']=finaldata[i+' Rel.Time']/ np.timedelta64(1, 's')"
   ]
  },
  {
   "cell_type": "code",
   "execution_count": 20,
   "metadata": {
    "ExecuteTime": {
     "end_time": "2020-11-17T14:23:39.588505Z",
     "start_time": "2020-11-17T14:23:29.188504Z"
    }
   },
   "outputs": [],
   "source": [
    "finaldata.to_excel(\"powerLog.xlsx\")"
   ]
  },
  {
   "cell_type": "code",
   "execution_count": 24,
   "metadata": {
    "ExecuteTime": {
     "end_time": "2020-11-17T14:26:24.082577Z",
     "start_time": "2020-11-17T14:26:23.861175Z"
    }
   },
   "outputs": [
    {
     "data": {
      "text/plain": [
       "<matplotlib.axes._subplots.AxesSubplot at 0x261bfd5e648>"
      ]
     },
     "execution_count": 24,
     "metadata": {},
     "output_type": "execute_result"
    },
    {
     "data": {
      "image/png": "[encoded data removed]",
      "text/plain": [
       "<Figure size 432x288 with 1 Axes>"
      ]
     },
     "metadata": {
      "needs_background": "light"
     },
     "output_type": "display_data"
    }
   ],
   "source": [
    "finaldata.plot(x='B Time', y='B Power')"
   ]
  },
  {
   "cell_type": "code",
   "execution_count": null,
   "metadata": {},
   "outputs": [],
   "source": []
  }
 ],
 "metadata": {
  "kernelspec": {
   "display_name": "Python 3",
   "language": "python",
   "name": "python3"
  },
  "language_info": {
   "codemirror_mode": {
    "name": "ipython",
    "version": 3
   },
   "file_extension": ".py",
   "mimetype": "text/x-python",
   "name": "python",
   "nbconvert_exporter": "python",
   "pygments_lexer": "ipython3",
   "version": "3.7.6"
  }
 },
 "nbformat": 4,
 "nbformat_minor": 4
}
